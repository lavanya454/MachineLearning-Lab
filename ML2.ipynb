{
 "cells": [
  {
   "cell_type": "code",
   "execution_count": 1,
   "id": "6be0b0da",
   "metadata": {},
   "outputs": [],
   "source": [
    "import seaborn as sb\n"
   ]
  },
  {
   "cell_type": "code",
   "execution_count": 2,
   "id": "bc66a299",
   "metadata": {},
   "outputs": [],
   "source": [
    "import pandas as pd\n"
   ]
  },
  {
   "cell_type": "code",
   "execution_count": 2,
   "id": "bfeaae05",
   "metadata": {},
   "outputs": [
    {
     "name": "stdout",
     "output_type": "stream",
     "text": [
      "    Manufacturer              Model  Sales in thousands 4-year resale value  \\\n",
      "0  Acura          Integra                        16.919               16.36   \n",
      "1  Acura          TL                             39.384              19.875   \n",
      "2  Acura          CL                             14.114              18.225   \n",
      "3  Acura          RL                              8.588              29.725   \n",
      "4  Audi           A4                             20.397              22.255   \n",
      "\n",
      "  Vehicle type Price in thousands Engine size Horsepower Wheelbase Width  \\\n",
      "0    Passenger               21.5         1.8        140     101.2  67.3   \n",
      "1    Passenger               28.4         3.2        225     108.1  70.3   \n",
      "2    Passenger                  .         3.2        225     106.9  70.6   \n",
      "3    Passenger                 42         3.5        210     114.6  71.4   \n",
      "4    Passenger              23.99         1.8        150     102.6  68.2   \n",
      "\n",
      "  Length Curb weight Fuel capacity Fuel efficiency Latest Launch  \n",
      "0  172.4       2.639          13.2              28      2-Feb-14  \n",
      "1  192.9       3.517          17.2              25      6-Mar-15  \n",
      "2    192        3.47          17.2              26      1-Apr-14  \n",
      "3  196.6        3.85            18              22      3-Oct-15  \n",
      "4    178       2.998          16.4              27     10-Aug-15  \n"
     ]
    }
   ],
   "source": [
    "#  1.Read top 5 values\n",
    "df=pd.read_csv(\"/home/rgukt-basar/Downloads/Car_sales.csv\")\n",
    "# print(df)\n",
    "print(df.head(5))"
   ]
  },
  {
   "cell_type": "code",
   "execution_count": 7,
   "id": "6fdc198b",
   "metadata": {},
   "outputs": [
    {
     "name": "stdout",
     "output_type": "stream",
     "text": [
      "Number of attributes: 15\n"
     ]
    }
   ],
   "source": [
    "df=pd.read_csv(\"/home/rgukt-basar/Downloads/Car_sales.csv\")\n",
    "num_attributes=df.shape[1]\n",
    "print(\"Number of attributes:\",num_attributes)"
   ]
  },
  {
   "cell_type": "code",
   "execution_count": 16,
   "id": "de5f288f",
   "metadata": {},
   "outputs": [
    {
     "name": "stdout",
     "output_type": "stream",
     "text": [
      "Manufacturer            object\n",
      "Model                   object\n",
      "Sales in thousands     float64\n",
      "4-year resale value     object\n",
      "Vehicle type            object\n",
      "Price in thousands      object\n",
      "Engine size             object\n",
      "Horsepower              object\n",
      "Wheelbase               object\n",
      "Width                   object\n",
      "Length                  object\n",
      "Curb weight             object\n",
      "Fuel capacity           object\n",
      "Fuel efficiency         object\n",
      "Latest Launch           object\n",
      "dtype: object\n"
     ]
    }
   ],
   "source": [
    "# 2. Print dataframe info_data types of each column \n",
    "df=pd.read_csv(\"/home/rgukt-basar/Downloads/Car_sales.csv\")\n",
    "# print(df.info())\n",
    "print(df.dtypes)"
   ]
  },
  {
   "cell_type": "code",
   "execution_count": 20,
   "id": "63e62926",
   "metadata": {},
   "outputs": [
    {
     "name": "stdout",
     "output_type": "stream",
     "text": [
      "       Sales in thousands\n",
      "count          157.000000\n",
      "mean            52.998076\n",
      "std             68.029422\n",
      "min              0.110000\n",
      "25%             14.114000\n",
      "50%             29.450000\n",
      "75%             67.956000\n",
      "max            540.561000\n"
     ]
    }
   ],
   "source": [
    "# 6. Print summary statistics for numerical variables\n",
    "\n",
    "df=pd.read_csv(\"/home/rgukt-basar/Downloads/Car_sales.csv\")\n",
    "# used for suumary statics caluculation\n",
    "print(df.describe())  "
   ]
  },
  {
   "cell_type": "code",
   "execution_count": 17,
   "id": "97bc37b1",
   "metadata": {},
   "outputs": [
    {
     "name": "stdout",
     "output_type": "stream",
     "text": [
      "Number of rows: 157\n",
      "Number of cols: 15\n"
     ]
    }
   ],
   "source": [
    "# 3.Print number of rows and columns\n",
    "df=pd.read_csv(\"/home/rgukt-basar/Downloads/Car_sales.csv\")\n",
    "rows,cols=df.shape\n",
    "print(\"Number of rows:\",rows)\n",
    "print(\"Number of cols:\",cols)"
   ]
  },
  {
   "cell_type": "code",
   "execution_count": 18,
   "id": "24114ce1",
   "metadata": {},
   "outputs": [
    {
     "name": "stdout",
     "output_type": "stream",
     "text": [
      "      Manufacturer              Model  Sales in thousands 4-year resale value  \\\n",
      "0    Acura          Integra                        16.919               16.36   \n",
      "1    Acura          TL                             39.384              19.875   \n",
      "2    Acura          CL                             14.114              18.225   \n",
      "3    Acura          RL                              8.588              29.725   \n",
      "4    Audi           A4                             20.397              22.255   \n",
      "..             ...                ...                 ...                 ...   \n",
      "152  Volvo          V40                             3.545                   .   \n",
      "153  Volvo          S70                            15.245                   .   \n",
      "154  Volvo          V70                            17.531                   .   \n",
      "155  Volvo          C70                             3.493                   .   \n",
      "156  Volvo          S80                            18.969                   .   \n",
      "\n",
      "    Vehicle type Price in thousands Engine size Horsepower Wheelbase Width  \\\n",
      "0      Passenger               21.5         1.8        140     101.2  67.3   \n",
      "1      Passenger               28.4         3.2        225     108.1  70.3   \n",
      "2      Passenger                  .         3.2        225     106.9  70.6   \n",
      "3      Passenger                 42         3.5        210     114.6  71.4   \n",
      "4      Passenger              23.99         1.8        150     102.6  68.2   \n",
      "..           ...                ...         ...        ...       ...   ...   \n",
      "152    Passenger               24.4         1.9        160     100.5  67.6   \n",
      "153    Passenger               27.5         2.4        168     104.9  69.3   \n",
      "154    Passenger               28.8         2.4        168     104.9  69.3   \n",
      "155    Passenger               45.5         2.3        236     104.9  71.5   \n",
      "156    Passenger                 36         2.9        201     109.9  72.1   \n",
      "\n",
      "    Length Curb weight Fuel capacity Fuel efficiency Latest Launch  \n",
      "0    172.4       2.639          13.2              28      2-Feb-14  \n",
      "1    192.9       3.517          17.2              25      6-Mar-15  \n",
      "2      192        3.47          17.2              26      1-Apr-14  \n",
      "3    196.6        3.85            18              22      3-Oct-15  \n",
      "4      178       2.998          16.4              27     10-Aug-15  \n",
      "..     ...         ...           ...             ...           ...  \n",
      "152  176.6       3.042          15.8              25     21-Sep-15  \n",
      "153  185.9       3.208          17.9              25     24-Nov-14  \n",
      "154  186.2       3.259          17.9              25     25-Jun-15  \n",
      "155  185.7       3.601          18.5              23     26-Apr-15  \n",
      "156  189.8         3.6          21.1              24     14-Nov-15  \n",
      "\n",
      "[157 rows x 15 columns]\n"
     ]
    }
   ],
   "source": [
    "#  4. Drop duplicate rows_if any\n",
    "df=pd.read_csv(\"/home/rgukt-basar/Downloads/Car_sales.csv\")\n",
    "df=df.drop_duplicates()\n",
    "print(df)"
   ]
  },
  {
   "cell_type": "code",
   "execution_count": 19,
   "id": "da5daf43",
   "metadata": {},
   "outputs": [
    {
     "name": "stdout",
     "output_type": "stream",
     "text": [
      "      Manufacturer              Model  Sales in thousands 4-year resale value  \\\n",
      "0    Acura          Integra                        16.919               16.36   \n",
      "1    Acura          TL                             39.384              19.875   \n",
      "2    Acura          CL                             14.114              18.225   \n",
      "3    Acura          RL                              8.588              29.725   \n",
      "4    Audi           A4                             20.397              22.255   \n",
      "..             ...                ...                 ...                 ...   \n",
      "152  Volvo          V40                             3.545                   .   \n",
      "153  Volvo          S70                            15.245                   .   \n",
      "154  Volvo          V70                            17.531                   .   \n",
      "155  Volvo          C70                             3.493                   .   \n",
      "156  Volvo          S80                            18.969                   .   \n",
      "\n",
      "    Vehicle type Price in thousands Engine size Horsepower Wheelbase Width  \\\n",
      "0      Passenger               21.5         1.8        140     101.2  67.3   \n",
      "1      Passenger               28.4         3.2        225     108.1  70.3   \n",
      "2      Passenger                  .         3.2        225     106.9  70.6   \n",
      "3      Passenger                 42         3.5        210     114.6  71.4   \n",
      "4      Passenger              23.99         1.8        150     102.6  68.2   \n",
      "..           ...                ...         ...        ...       ...   ...   \n",
      "152    Passenger               24.4         1.9        160     100.5  67.6   \n",
      "153    Passenger               27.5         2.4        168     104.9  69.3   \n",
      "154    Passenger               28.8         2.4        168     104.9  69.3   \n",
      "155    Passenger               45.5         2.3        236     104.9  71.5   \n",
      "156    Passenger                 36         2.9        201     109.9  72.1   \n",
      "\n",
      "    Length Curb weight Fuel capacity Fuel efficiency Latest Launch  \n",
      "0    172.4       2.639          13.2              28      2-Feb-14  \n",
      "1    192.9       3.517          17.2              25      6-Mar-15  \n",
      "2      192        3.47          17.2              26      1-Apr-14  \n",
      "3    196.6        3.85            18              22      3-Oct-15  \n",
      "4      178       2.998          16.4              27     10-Aug-15  \n",
      "..     ...         ...           ...             ...           ...  \n",
      "152  176.6       3.042          15.8              25     21-Sep-15  \n",
      "153  185.9       3.208          17.9              25     24-Nov-14  \n",
      "154  186.2       3.259          17.9              25     25-Jun-15  \n",
      "155  185.7       3.601          18.5              23     26-Apr-15  \n",
      "156  189.8         3.6          21.1              24     14-Nov-15  \n",
      "\n",
      "[157 rows x 15 columns]\n",
      "number of rows: 157\n",
      "number of cols: 15\n"
     ]
    }
   ],
   "source": [
    "# 5. Print number of rows and columns after dropping duplicates\n",
    "\n",
    "df=pd.read_csv(\"/home/rgukt-basar/Downloads/Car_sales.csv\")\n",
    "df=df.drop_duplicates()\n",
    "print(df)\n",
    "rows,cols=df.shape\n",
    "print(\"number of rows:\",rows)\n",
    "print(\"number of cols:\",cols)"
   ]
  },
  {
   "cell_type": "code",
   "execution_count": 24,
   "id": "a9144440",
   "metadata": {},
   "outputs": [
    {
     "name": "stdout",
     "output_type": "stream",
     "text": [
      "Manufacturer           0\n",
      "Model                  0\n",
      "Sales in thousands     0\n",
      "4-year resale value    0\n",
      "Vehicle type           0\n",
      "Price in thousands     0\n",
      "Engine size            0\n",
      "Horsepower             0\n",
      "Wheelbase              0\n",
      "Width                  0\n",
      "Length                 0\n",
      "Curb weight            0\n",
      "Fuel capacity          0\n",
      "Fuel efficiency        0\n",
      "Latest Launch          0\n",
      "dtype: int64\n"
     ]
    }
   ],
   "source": [
    "# 7. Print number of missing values in each column\n",
    "\n",
    "df=pd.read_csv(\"/home/rgukt-basar/Downloads/Car_sales.csv\")\n",
    "df=df.isna().sum()\n",
    "print(df)"
   ]
  },
  {
   "cell_type": "code",
   "execution_count": 26,
   "id": "7cce5025",
   "metadata": {},
   "outputs": [
    {
     "name": "stdout",
     "output_type": "stream",
     "text": [
      "Manufacturer\n"
     ]
    }
   ],
   "source": [
    "#  8. Drop the column with most missing values\n",
    "\n",
    "df=pd.read_csv(\"/home/rgukt-basar/Downloads/Car_sales.csv\")\n",
    "most_missing=df.isna().sum().idxmax()\n",
    "print(most_missing)"
   ]
  },
  {
   "cell_type": "code",
   "execution_count": 29,
   "id": "92858df4",
   "metadata": {},
   "outputs": [
    {
     "name": "stdout",
     "output_type": "stream",
     "text": [
      "      Manufacturer              Model  Sales in thousands 4-year resale value  \\\n",
      "0    Acura          Integra                        16.919               16.36   \n",
      "1    Acura          TL                             39.384              19.875   \n",
      "2    Acura          CL                             14.114              18.225   \n",
      "3    Acura          RL                              8.588              29.725   \n",
      "4    Audi           A4                             20.397              22.255   \n",
      "..             ...                ...                 ...                 ...   \n",
      "152  Volvo          V40                             3.545                   .   \n",
      "153  Volvo          S70                            15.245                   .   \n",
      "154  Volvo          V70                            17.531                   .   \n",
      "155  Volvo          C70                             3.493                   .   \n",
      "156  Volvo          S80                            18.969                   .   \n",
      "\n",
      "    Vehicle type Price in thousands Engine size Horsepower Wheelbase Width  \\\n",
      "0      Passenger               21.5         1.8        140     101.2  67.3   \n",
      "1      Passenger               28.4         3.2        225     108.1  70.3   \n",
      "2      Passenger                  .         3.2        225     106.9  70.6   \n",
      "3      Passenger                 42         3.5        210     114.6  71.4   \n",
      "4      Passenger              23.99         1.8        150     102.6  68.2   \n",
      "..           ...                ...         ...        ...       ...   ...   \n",
      "152    Passenger               24.4         1.9        160     100.5  67.6   \n",
      "153    Passenger               27.5         2.4        168     104.9  69.3   \n",
      "154    Passenger               28.8         2.4        168     104.9  69.3   \n",
      "155    Passenger               45.5         2.3        236     104.9  71.5   \n",
      "156    Passenger                 36         2.9        201     109.9  72.1   \n",
      "\n",
      "    Length Curb weight Fuel capacity Fuel efficiency Latest Launch  \n",
      "0    172.4       2.639          13.2              28      2-Feb-14  \n",
      "1    192.9       3.517          17.2              25      6-Mar-15  \n",
      "2      192        3.47          17.2              26      1-Apr-14  \n",
      "3    196.6        3.85            18              22      3-Oct-15  \n",
      "4      178       2.998          16.4              27     10-Aug-15  \n",
      "..     ...         ...           ...             ...           ...  \n",
      "152  176.6       3.042          15.8              25     21-Sep-15  \n",
      "153  185.9       3.208          17.9              25     24-Nov-14  \n",
      "154  186.2       3.259          17.9              25     25-Jun-15  \n",
      "155  185.7       3.601          18.5              23     26-Apr-15  \n",
      "156  189.8         3.6          21.1              24     14-Nov-15  \n",
      "\n",
      "[157 rows x 15 columns]\n"
     ]
    }
   ],
   "source": [
    "# 9. Drop the rows with categorical missing values\n",
    "\n",
    "df=pd.read_csv(\"/home/rgukt-basar/Downloads/Car_sales.csv\")\n",
    "categorical=df.select_dtypes(include=['object']).columns\n",
    "df_cleaned=df.dropna(subset=categorical)\n",
    "print(df_cleaned)\n"
   ]
  },
  {
   "cell_type": "code",
   "execution_count": 30,
   "id": "7aec7df7",
   "metadata": {},
   "outputs": [
    {
     "name": "stdout",
     "output_type": "stream",
     "text": [
      "Empty DataFrame\n",
      "Columns: [Manufacturer, Model, Sales in thousands, 4-year resale value, Vehicle type, Price in thousands, Engine size, Horsepower, Wheelbase, Width, Length, Curb weight, Fuel capacity, Fuel efficiency, Latest Launch]\n",
      "Index: []\n"
     ]
    }
   ],
   "source": [
    "# 10. Import the rows with numerical missing values\n",
    "\n",
    "df=pd.read_csv(\"/home/rgukt-basar/Downloads/Car_sales.csv\")\n",
    "numerical_data=df.select_dtypes(include=['number']).columns\n",
    "\n",
    "missingvalues=df[df[numerical_data].isna().any(axis=1)]\n",
    "print(missingvalues)\n"
   ]
  },
  {
   "cell_type": "code",
   "execution_count": 32,
   "id": "4ab16492",
   "metadata": {},
   "outputs": [
    {
     "name": "stdout",
     "output_type": "stream",
     "text": [
      "least expensive car Manufacturer               Acura        \n",
      "Model                  Integra          \n",
      "Sales in thousands                16.919\n",
      "4-year resale value                16.36\n",
      "Vehicle type                   Passenger\n",
      "Price in thousands                  21.5\n",
      "Engine size                          1.8\n",
      "Horsepower                           140\n",
      "Wheelbase                          101.2\n",
      "Width                               67.3\n",
      "Length                             172.4\n",
      "Curb weight                        2.639\n",
      "Fuel capacity                       13.2\n",
      "Fuel efficiency                       28\n",
      "Latest Launch                   2-Feb-14\n",
      "Name: 0, dtype: object\n",
      "most expensive car Manufacturer               Volvo        \n",
      "Model                  S80              \n",
      "Sales in thousands                18.969\n",
      "4-year resale value                    .\n",
      "Vehicle type                   Passenger\n",
      "Price in thousands                    36\n",
      "Engine size                          2.9\n",
      "Horsepower                           201\n",
      "Wheelbase                          109.9\n",
      "Width                               72.1\n",
      "Length                             189.8\n",
      "Curb weight                          3.6\n",
      "Fuel capacity                       21.1\n",
      "Fuel efficiency                       24\n",
      "Latest Launch                  14-Nov-15\n",
      "Name: 156, dtype: object\n"
     ]
    }
   ],
   "source": [
    "# 11. Sort the data w.r.t price_find the details of the most and the least expensive cars\n",
    "\n",
    "df=pd.read_csv(\"/home/rgukt-basar/Downloads/Car_sales.csv\")\n",
    "df_sorted=df.sort_values(by='Price in thousands',ascending=True)\n",
    "least_expensive_car=df.iloc[0]\n",
    "most_expensive_car=df.iloc[-1]\n",
    "print(\"least expensive car\",least_expensive_car)\n",
    "print(\"most expensive car\",most_expensive_car)\n"
   ]
  },
  {
   "cell_type": "code",
   "execution_count": 3,
   "id": "43b53d2b",
   "metadata": {},
   "outputs": [
    {
     "name": "stdout",
     "output_type": "stream",
     "text": [
      "Min: 1, Max: 7\n"
     ]
    }
   ],
   "source": [
    "# 12. Write a function to find min and max values of any column\n",
    "\n",
    "import pandas as pd\n",
    "\n",
    "def find_min_max(df, column_name):\n",
    "    \"\"\"\n",
    "    Finds the minimum and maximum values of a specified column in a DataFrame.\n",
    "    \n",
    "    :param df: pandas DataFrame\n",
    "    :param column_name: Name of the column to find min and max values\n",
    "    :return: Tuple (min_value, max_value)\n",
    "    \"\"\"\n",
    "    if column_name not in df.columns:\n",
    "        raise ValueError(f\"Column '{column_name}' not found in DataFrame.\")\n",
    "    \n",
    "    return df[column_name].min(), df[column_name].max()\n",
    "\n",
    "# Example usage\n",
    "data = {'A': [3, 1, 7, 5], 'B': [10, 20, 15, 5]}\n",
    "df = pd.DataFrame(data)\n",
    "\n",
    "min_val, max_val = find_min_max(df, 'A')\n",
    "print(f\"Min: {min_val}, Max: {max_val}\")\n"
   ]
  },
  {
   "cell_type": "code",
   "execution_count": null,
   "id": "36bf3a20",
   "metadata": {},
   "outputs": [],
   "source": []
  }
 ],
 "metadata": {
  "kernelspec": {
   "display_name": "Python 3 (ipykernel)",
   "language": "python",
   "name": "python3"
  },
  "language_info": {
   "codemirror_mode": {
    "name": "ipython",
    "version": 3
   },
   "file_extension": ".py",
   "mimetype": "text/x-python",
   "name": "python",
   "nbconvert_exporter": "python",
   "pygments_lexer": "ipython3",
   "version": "3.10.6"
  }
 },
 "nbformat": 4,
 "nbformat_minor": 5
}
